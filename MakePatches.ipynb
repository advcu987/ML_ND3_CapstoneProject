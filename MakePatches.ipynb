{
 "cells": [
  {
   "cell_type": "code",
   "execution_count": 1,
   "metadata": {},
   "outputs": [],
   "source": [
    "import cv2\n",
    "import imutils\n",
    "import os\n",
    "import numpy as np\n",
    "import psutil\n",
    "from helper_functions import extract_patches"
   ]
  },
  {
   "cell_type": "code",
   "execution_count": 2,
   "metadata": {},
   "outputs": [
    {
     "name": "stdout",
     "output_type": "stream",
     "text": [
      "/home/advo/PycharmProjects/Udacity_CapstoneProject/Dataset_small/mitosis/\n"
     ]
    }
   ],
   "source": [
    "hwsize = 32\n",
    "\n",
    "# Arrays of rotations to be used for patch creation. \n",
    "pos_rots = [0, 45, 90]\n",
    "neg_rots = [0]\n",
    "\n",
    "# Lists for the datapoints with no centers and no blue ratio data respectively\n",
    "no_centers = []\n",
    "no_br = []\n",
    "\n",
    "# Dictionaries where the labels for each patch will be stored. Needed for training and testing\n",
    "dict_labels_pos = {}\n",
    "dict_labels_neg = {}\n",
    "\n",
    "# Original dataset location\n",
    "orig_dataset_dir = '/home/advo/PycharmProjects/Udacity_CapstoneProject/Dataset_small/mitosis'\n",
    "patches_dataset_dir = '/home/advo/PycharmProjects/Udacity_CapstoneProject/Dataset_small/patches/'\n",
    "os.chdir(orig_dataset_dir)\n",
    "root =os.path.splitext(orig_dataset_dir)[0] + '/'\n",
    "print(root)"
   ]
  },
  {
   "cell_type": "markdown",
   "metadata": {},
   "source": [
    "## !! Caution: Takes a long time to execute"
   ]
  },
  {
   "cell_type": "code",
   "execution_count": 3,
   "metadata": {
    "scrolled": false
   },
   "outputs": [
    {
     "name": "stdout",
     "output_type": "stream",
     "text": [
      "\n",
      "The following 0 datapoints contain no Ground Truth info: \n",
      "[]\n",
      "\n",
      "The following 1 datapoints contain no Blue Ration Segmentation info: \n",
      "['01_01']\n"
     ]
    }
   ],
   "source": [
    "for file in os.listdir(orig_dataset_dir):\n",
    "#     print(file)\n",
    "    if file.endswith(\".tif\"):\n",
    "        \n",
    "#         print(file)\n",
    "#         print(\"ram usage: \" + str(psutil.virtual_memory().percent))\n",
    "        basename = os.path.splitext(file)[0]\n",
    "        filename = os.path.join(root + file)\n",
    "        \n",
    "                \n",
    "        image = cv2.imread(file, cv2.IMREAD_UNCHANGED)\n",
    "        \n",
    "        if type(image) == type(None):\n",
    "        \n",
    "            print(\"Error: file \" + file + \" not found\")\n",
    "        \n",
    "        else:\n",
    "            \n",
    "            # Resize the image to 20x magnification\n",
    "            # The reason behind this is to ensure that the entire mitotic center is contained in a patch\n",
    "            image = cv2.resize(src=image, dsize=(1000,1000))\n",
    "            \n",
    "            # Form the name of the Ground Truth file\n",
    "            gt_maskname = os.path.join(root + basename + \"_pc.png\")\n",
    "\n",
    "            gt_mask = cv2.imread(gt_maskname, cv2.IMREAD_UNCHANGED)\n",
    "\n",
    "            if type(gt_mask) is type(None):\n",
    "\n",
    "                no_centers.append(basename)\n",
    "    #             print(\"no GT \" + os.path.split(gt_maskname)[1])\n",
    "\n",
    "            else:\n",
    "\n",
    "                # Resize the image to 20x magnification\n",
    "                # The reason behind this is to ensure that the entire mitotic center is contained in a patch\n",
    "                gt_mask = cv2.resize(src=gt_mask, dsize=(1000,1000))\n",
    "                \n",
    "                # Extract the coordinates of the centers \n",
    "                gt_result = np.where(gt_mask == 255)\n",
    "#                 print(\"number of pos pix in \" + gt_maskname + \"= \" + str(len(gt_result[0])))\n",
    "                extract_patches(image, gt_result, 'class1', pos_rots, hwsize, dict_labels_pos, patches_dataset_dir, basename)\n",
    "\n",
    "\n",
    "\n",
    "            # Form the name of the Blue Ration Segmentation mask file\n",
    "            br_maskname = os.path.join(root + basename + \"_cmask.png\")\n",
    "\n",
    "            br_mask = cv2.imread(br_maskname, cv2.IMREAD_UNCHANGED)\n",
    "\n",
    "            if type(br_mask) == type(None):\n",
    "\n",
    "                no_br.append(basename)\n",
    "#               print(\"no BR \" + str(br_maskname))\n",
    "\n",
    "            else:\n",
    "\n",
    "                # Resize the image to 20x magnification\n",
    "                # The reason behind this is to ensure that the entire mitotic center is contained in a patch\n",
    "                br_mask = cv2.resize(src=br_mask, dsize=(1000,1000))        \n",
    "        \n",
    "                # Extract the coordinates of the centers \n",
    "                br_result = np.where(br_mask == 255)\n",
    "#                 print(\"Size of mask before removing pos pix: \" + str(len(br_result[0])) + \", \" + str(len(br_result[1])))\n",
    "\n",
    "                # Check if the Ground Truth mask exists (ie. if there are any positive centers in the current image)\n",
    "                if ~(type(gt_mask) is type(None)):\n",
    "\n",
    "                    # Remove the positive centers from the BR mask\n",
    "                    for id1, id2 in zip(gt_result[0], gt_result[1]):\n",
    "                        br_mask[id1][id2] = 0\n",
    "\n",
    "                    # Extract the coordinates of the centers \n",
    "                    br_result = np.where(br_mask == 255)\n",
    "#                     print(\"Size of mask after removing pos pix: \" + str(len(br_result[0])) + \", \" + str(len(br_result[1])))\n",
    "\n",
    "                # Extract the patches whether we had positive centers or not\n",
    "                # These ones will be used as negative samples\n",
    "                extract_patches(image, br_result, 'class0', neg_rots, hwsize, dict_labels_neg, patches_dataset_dir, basename)\n",
    "\n",
    "         \n",
    "    # break \"file\" loop\n",
    "#     break\n",
    "    \n",
    "print(\"\\nThe following \"+ str(len(no_centers)) +\" datapoints contain no Ground Truth info: \")\n",
    "print(no_centers)\n",
    "\n",
    "print(\"\\nThe following \"+ str(len(no_br)) +\" datapoints contain no Blue Ration Segmentation info: \")\n",
    "print(no_br)\n",
    "            \n",
    "# Free up the space\n",
    "no_centers = None\n",
    "no_br = None"
   ]
  },
  {
   "cell_type": "code",
   "execution_count": null,
   "metadata": {},
   "outputs": [],
   "source": [
    "image = cv2.imread('/home/advo/PycharmProjects/Udacity_CapstoneProject/Dataset/mitosis/01_01.tif', cv2.IMREAD_UNCHANGED)\n",
    "# mask = cv2.imread('/home/advo/PycharmProjects/Udacity_CapstoneProject/Dataset/mitosis/01_01_cmask.png', cv2.IMREAD_UNCHANGED)\n",
    "# print(mask.shape)"
   ]
  },
  {
   "cell_type": "code",
   "execution_count": null,
   "metadata": {},
   "outputs": [],
   "source": [
    "cv2.imshow(\"image\", image)\n",
    "cv2.waitKey(0)\n",
    "cv2.destroyAllWindows()"
   ]
  },
  {
   "cell_type": "code",
   "execution_count": null,
   "metadata": {},
   "outputs": [],
   "source": [
    "image = cv2.resize(src=image, dsize=(1000,1000))\n",
    "cv2.imshow(\"image\", image)\n",
    "cv2.waitKey(0)\n",
    "cv2.destroyAllWindows()"
   ]
  },
  {
   "cell_type": "code",
   "execution_count": null,
   "metadata": {},
   "outputs": [],
   "source": [
    "# result = np.where(mask == 255)"
   ]
  },
  {
   "cell_type": "code",
   "execution_count": null,
   "metadata": {},
   "outputs": [],
   "source": [
    "# # Get the row and column coordinates of the positive pixels\n",
    "# rows = result[0]\n",
    "# cols = result[1]\n",
    "\n",
    "# # Get the size of the image (width, height)\n",
    "# imsize_w = image.shape[0]\n",
    "# imsize_h = image.shape[1]"
   ]
  },
  {
   "cell_type": "code",
   "execution_count": null,
   "metadata": {},
   "outputs": [],
   "source": [
    "# # Get the size of the positive pixels array\n",
    "# npos = len(rows)"
   ]
  },
  {
   "cell_type": "code",
   "execution_count": null,
   "metadata": {},
   "outputs": [],
   "source": [
    "# # Establish the condition based on which the positive pixels will be kept\n",
    "# # ie. remove the pixels that are located at any of the borders of the image\n",
    "# # because they cannot form valid patches\n",
    "# # Note. 2*hwsize is used because the initial patches will be double the size, since we want to be able to rotate them\n",
    "# condition_row = (rows + 2*hwsize <= imsize_h) & (rows - 2*hwsize >= 0)\n",
    "# condition_col = (cols + 2*hwsize <= imsize_w) & (cols - 2*hwsize >= 0)"
   ]
  },
  {
   "cell_type": "code",
   "execution_count": null,
   "metadata": {},
   "outputs": [],
   "source": [
    "# # Remove the border pixels; keep the original rows, cols\n",
    "# rows_filt = rows[condition_row]\n",
    "# cols_filt = cols[condition_col]"
   ]
  },
  {
   "cell_type": "code",
   "execution_count": null,
   "metadata": {},
   "outputs": [],
   "source": [
    "# idx = 1\n",
    "# # Extract the 64x64 patch \n",
    "# patch = image[rows_filt[idx]-hwsize:rows_filt[idx]+hwsize, cols_filt[idx]-hwsize:cols_filt[idx]+hwsize]"
   ]
  },
  {
   "cell_type": "code",
   "execution_count": null,
   "metadata": {},
   "outputs": [],
   "source": [
    "cv2.imshow(\"image\", patch)\n",
    "cv2.waitKey(0)\n",
    "cv2.destroyAllWindows()"
   ]
  },
  {
   "cell_type": "code",
   "execution_count": null,
   "metadata": {},
   "outputs": [],
   "source": [
    "patch.shape"
   ]
  },
  {
   "cell_type": "code",
   "execution_count": null,
   "metadata": {},
   "outputs": [],
   "source": [
    "# rot = [0, 45, 90, 135, 180]\n",
    "# # rpatch = cv2.rotate(patch, cv2.ROTATE_90_CLOCKWISE)\n",
    "# rpatch = imutils.rotate(patch, angle = rot[3])\n",
    "# rpatch_resized = rpatch[16:48, 16:48, :]  "
   ]
  },
  {
   "cell_type": "code",
   "execution_count": null,
   "metadata": {},
   "outputs": [],
   "source": [
    "cv2.imshow(\"image2\", rpatch_resized)\n",
    "cv2.waitKey(0)\n",
    "cv2.destroyAllWindows()"
   ]
  },
  {
   "cell_type": "code",
   "execution_count": null,
   "metadata": {},
   "outputs": [],
   "source": [
    "rpatch_resized.shape"
   ]
  },
  {
   "cell_type": "code",
   "execution_count": null,
   "metadata": {},
   "outputs": [],
   "source": [
    "arr1 = [[0, 0, 0, 0, 0],\n",
    "        [1, 0, 0, 0, 0],\n",
    "        [0, 1, 0, 0, 0],\n",
    "        [0, 0, 1, 0, 0]]"
   ]
  },
  {
   "cell_type": "code",
   "execution_count": null,
   "metadata": {},
   "outputs": [],
   "source": [
    "r = [1, 2, 0]\n",
    "c = [0, 1, 0]"
   ]
  },
  {
   "cell_type": "code",
   "execution_count": null,
   "metadata": {},
   "outputs": [],
   "source": [
    "for id1,id2 in zip(r,c):\n",
    "    arr1[id1][id2] = 0 "
   ]
  },
  {
   "cell_type": "code",
   "execution_count": null,
   "metadata": {},
   "outputs": [],
   "source": [
    "arr1"
   ]
  },
  {
   "cell_type": "code",
   "execution_count": null,
   "metadata": {},
   "outputs": [],
   "source": []
  }
 ],
 "metadata": {
  "kernelspec": {
   "display_name": "Python 3",
   "language": "python",
   "name": "python3"
  },
  "language_info": {
   "codemirror_mode": {
    "name": "ipython",
    "version": 3
   },
   "file_extension": ".py",
   "mimetype": "text/x-python",
   "name": "python",
   "nbconvert_exporter": "python",
   "pygments_lexer": "ipython3",
   "version": "3.8.2"
  }
 },
 "nbformat": 4,
 "nbformat_minor": 4
}
